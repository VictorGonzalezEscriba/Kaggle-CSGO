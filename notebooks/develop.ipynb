{
 "cells": [
  {
   "cell_type": "markdown",
   "id": "845f8f96",
   "metadata": {},
   "source": [
    "# Kaggle-CSGO: round winner prediction\n",
    "Aquest dataset conté informació sobre diferents partides del joc CS:GO (Counter Strike Global Offensive). Es tracta d'un joc first-person shooter desenvolupat per Valve.\n",
    "El joc consisteix en que l'equip T (Terrorist) ha de fer explotar una bomba i l'equip CT (Counter Terrorists) ha d'evitar-ho.\n",
    "\n",
    "L'objectiu d'aquest exercici és classificar quin equip guanyarà una ronda a partir d'atributs com són la vida dels equips, els diners, el mapa, les armes o si la bomba ha estat activada."
   ]
  },
  {
   "cell_type": "markdown",
   "id": "09593cd2",
   "metadata": {},
   "source": [
    "Primer, carreguem el dataset que es troba a la carpeta data utilitzant la llibreria pandas:"
   ]
  },
  {
   "cell_type": "code",
   "execution_count": 18,
   "id": "c8aaade7",
   "metadata": {
    "scrolled": false
   },
   "outputs": [
    {
     "name": "stdout",
     "output_type": "stream",
     "text": [
      "Dimensionalitat de la BBDD:  (122410, 97)\n"
     ]
    },
    {
     "data": {
      "text/html": [
       "<div>\n",
       "<style scoped>\n",
       "    .dataframe tbody tr th:only-of-type {\n",
       "        vertical-align: middle;\n",
       "    }\n",
       "\n",
       "    .dataframe tbody tr th {\n",
       "        vertical-align: top;\n",
       "    }\n",
       "\n",
       "    .dataframe thead th {\n",
       "        text-align: right;\n",
       "    }\n",
       "</style>\n",
       "<table border=\"1\" class=\"dataframe\">\n",
       "  <thead>\n",
       "    <tr style=\"text-align: right;\">\n",
       "      <th></th>\n",
       "      <th>time_left</th>\n",
       "      <th>ct_score</th>\n",
       "      <th>t_score</th>\n",
       "      <th>map</th>\n",
       "      <th>bomb_planted</th>\n",
       "      <th>ct_health</th>\n",
       "      <th>t_health</th>\n",
       "      <th>ct_armor</th>\n",
       "      <th>t_armor</th>\n",
       "      <th>ct_money</th>\n",
       "      <th>...</th>\n",
       "      <th>t_grenade_flashbang</th>\n",
       "      <th>ct_grenade_smokegrenade</th>\n",
       "      <th>t_grenade_smokegrenade</th>\n",
       "      <th>ct_grenade_incendiarygrenade</th>\n",
       "      <th>t_grenade_incendiarygrenade</th>\n",
       "      <th>ct_grenade_molotovgrenade</th>\n",
       "      <th>t_grenade_molotovgrenade</th>\n",
       "      <th>ct_grenade_decoygrenade</th>\n",
       "      <th>t_grenade_decoygrenade</th>\n",
       "      <th>round_winner</th>\n",
       "    </tr>\n",
       "  </thead>\n",
       "  <tbody>\n",
       "    <tr>\n",
       "      <th>0</th>\n",
       "      <td>175.00</td>\n",
       "      <td>0.0</td>\n",
       "      <td>0.0</td>\n",
       "      <td>de_dust2</td>\n",
       "      <td>False</td>\n",
       "      <td>500.0</td>\n",
       "      <td>500.0</td>\n",
       "      <td>0.0</td>\n",
       "      <td>0.0</td>\n",
       "      <td>4000.0</td>\n",
       "      <td>...</td>\n",
       "      <td>0.0</td>\n",
       "      <td>0.0</td>\n",
       "      <td>0.0</td>\n",
       "      <td>0.0</td>\n",
       "      <td>0.0</td>\n",
       "      <td>0.0</td>\n",
       "      <td>0.0</td>\n",
       "      <td>0.0</td>\n",
       "      <td>0.0</td>\n",
       "      <td>CT</td>\n",
       "    </tr>\n",
       "    <tr>\n",
       "      <th>1</th>\n",
       "      <td>156.03</td>\n",
       "      <td>0.0</td>\n",
       "      <td>0.0</td>\n",
       "      <td>de_dust2</td>\n",
       "      <td>False</td>\n",
       "      <td>500.0</td>\n",
       "      <td>500.0</td>\n",
       "      <td>400.0</td>\n",
       "      <td>300.0</td>\n",
       "      <td>600.0</td>\n",
       "      <td>...</td>\n",
       "      <td>0.0</td>\n",
       "      <td>0.0</td>\n",
       "      <td>2.0</td>\n",
       "      <td>0.0</td>\n",
       "      <td>0.0</td>\n",
       "      <td>0.0</td>\n",
       "      <td>0.0</td>\n",
       "      <td>0.0</td>\n",
       "      <td>0.0</td>\n",
       "      <td>CT</td>\n",
       "    </tr>\n",
       "    <tr>\n",
       "      <th>2</th>\n",
       "      <td>96.03</td>\n",
       "      <td>0.0</td>\n",
       "      <td>0.0</td>\n",
       "      <td>de_dust2</td>\n",
       "      <td>False</td>\n",
       "      <td>391.0</td>\n",
       "      <td>400.0</td>\n",
       "      <td>294.0</td>\n",
       "      <td>200.0</td>\n",
       "      <td>750.0</td>\n",
       "      <td>...</td>\n",
       "      <td>0.0</td>\n",
       "      <td>0.0</td>\n",
       "      <td>2.0</td>\n",
       "      <td>0.0</td>\n",
       "      <td>0.0</td>\n",
       "      <td>0.0</td>\n",
       "      <td>0.0</td>\n",
       "      <td>0.0</td>\n",
       "      <td>0.0</td>\n",
       "      <td>CT</td>\n",
       "    </tr>\n",
       "    <tr>\n",
       "      <th>3</th>\n",
       "      <td>76.03</td>\n",
       "      <td>0.0</td>\n",
       "      <td>0.0</td>\n",
       "      <td>de_dust2</td>\n",
       "      <td>False</td>\n",
       "      <td>391.0</td>\n",
       "      <td>400.0</td>\n",
       "      <td>294.0</td>\n",
       "      <td>200.0</td>\n",
       "      <td>750.0</td>\n",
       "      <td>...</td>\n",
       "      <td>0.0</td>\n",
       "      <td>0.0</td>\n",
       "      <td>0.0</td>\n",
       "      <td>0.0</td>\n",
       "      <td>0.0</td>\n",
       "      <td>0.0</td>\n",
       "      <td>0.0</td>\n",
       "      <td>0.0</td>\n",
       "      <td>0.0</td>\n",
       "      <td>CT</td>\n",
       "    </tr>\n",
       "    <tr>\n",
       "      <th>4</th>\n",
       "      <td>174.97</td>\n",
       "      <td>1.0</td>\n",
       "      <td>0.0</td>\n",
       "      <td>de_dust2</td>\n",
       "      <td>False</td>\n",
       "      <td>500.0</td>\n",
       "      <td>500.0</td>\n",
       "      <td>192.0</td>\n",
       "      <td>0.0</td>\n",
       "      <td>18350.0</td>\n",
       "      <td>...</td>\n",
       "      <td>0.0</td>\n",
       "      <td>0.0</td>\n",
       "      <td>0.0</td>\n",
       "      <td>0.0</td>\n",
       "      <td>0.0</td>\n",
       "      <td>0.0</td>\n",
       "      <td>0.0</td>\n",
       "      <td>0.0</td>\n",
       "      <td>0.0</td>\n",
       "      <td>CT</td>\n",
       "    </tr>\n",
       "  </tbody>\n",
       "</table>\n",
       "<p>5 rows × 97 columns</p>\n",
       "</div>"
      ],
      "text/plain": [
       "   time_left  ct_score  t_score       map  bomb_planted  ct_health  t_health  \\\n",
       "0     175.00       0.0      0.0  de_dust2         False      500.0     500.0   \n",
       "1     156.03       0.0      0.0  de_dust2         False      500.0     500.0   \n",
       "2      96.03       0.0      0.0  de_dust2         False      391.0     400.0   \n",
       "3      76.03       0.0      0.0  de_dust2         False      391.0     400.0   \n",
       "4     174.97       1.0      0.0  de_dust2         False      500.0     500.0   \n",
       "\n",
       "   ct_armor  t_armor  ct_money  ...  t_grenade_flashbang  \\\n",
       "0       0.0      0.0    4000.0  ...                  0.0   \n",
       "1     400.0    300.0     600.0  ...                  0.0   \n",
       "2     294.0    200.0     750.0  ...                  0.0   \n",
       "3     294.0    200.0     750.0  ...                  0.0   \n",
       "4     192.0      0.0   18350.0  ...                  0.0   \n",
       "\n",
       "   ct_grenade_smokegrenade  t_grenade_smokegrenade  \\\n",
       "0                      0.0                     0.0   \n",
       "1                      0.0                     2.0   \n",
       "2                      0.0                     2.0   \n",
       "3                      0.0                     0.0   \n",
       "4                      0.0                     0.0   \n",
       "\n",
       "   ct_grenade_incendiarygrenade  t_grenade_incendiarygrenade  \\\n",
       "0                           0.0                          0.0   \n",
       "1                           0.0                          0.0   \n",
       "2                           0.0                          0.0   \n",
       "3                           0.0                          0.0   \n",
       "4                           0.0                          0.0   \n",
       "\n",
       "   ct_grenade_molotovgrenade  t_grenade_molotovgrenade  \\\n",
       "0                        0.0                       0.0   \n",
       "1                        0.0                       0.0   \n",
       "2                        0.0                       0.0   \n",
       "3                        0.0                       0.0   \n",
       "4                        0.0                       0.0   \n",
       "\n",
       "   ct_grenade_decoygrenade  t_grenade_decoygrenade  round_winner  \n",
       "0                      0.0                     0.0            CT  \n",
       "1                      0.0                     0.0            CT  \n",
       "2                      0.0                     0.0            CT  \n",
       "3                      0.0                     0.0            CT  \n",
       "4                      0.0                     0.0            CT  \n",
       "\n",
       "[5 rows x 97 columns]"
      ]
     },
     "execution_count": 18,
     "metadata": {},
     "output_type": "execute_result"
    }
   ],
   "source": [
    "import pandas as pd\n",
    "import numpy as np\n",
    "import random\n",
    "import time\n",
    "import seaborn as sns\n",
    "from sklearn.model_selection import train_test_split, GridSearchCV\n",
    "from sklearn.linear_model import LogisticRegression\n",
    "from sklearn.tree import DecisionTreeClassifier\n",
    "from sklearn.neighbors import KNeighborsClassifier\n",
    "from sklearn.metrics import classification_report, accuracy_score, precision_score, recall_score\n",
    "from sklearn.preprocessing import LabelEncoder, StandardScaler\n",
    "\n",
    "\n",
    "sns.set(rc={'figure.figsize':(11.7,8.27)})\n",
    "\n",
    "def load_dataset(path):\n",
    "    df = pd.read_csv(path, delimiter=',', engine='python')\n",
    "    return df\n",
    "\n",
    "dataset = load_dataset('../data/csgo_round_snapshots.csv')\n",
    "# Veiem les dimensionalitats de la base de dades i les 5 primeres files, per veure el format.\n",
    "print(\"Dimensionalitat de la BBDD: \", dataset.shape)\n",
    "dataset.head()"
   ]
  },
  {
   "cell_type": "markdown",
   "id": "3b18aee3",
   "metadata": {},
   "source": [
    "Podem veure que es tracta d'una base de dades de 122410 files i 97 columnes."
   ]
  },
  {
   "cell_type": "markdown",
   "id": "d367c564",
   "metadata": {},
   "source": [
    "# Data understanding\n",
    "En aquest aparatat veurem la distribució d'alguns atributs com l'equip que guanya o els diferents mapes."
   ]
  },
  {
   "cell_type": "code",
   "execution_count": 19,
   "id": "7169a222",
   "metadata": {
    "scrolled": true
   },
   "outputs": [
    {
     "data": {
      "text/plain": [
       "Text(0.5, 1.0, 'Quantitat de partides guanaydes per equip')"
      ]
     },
     "execution_count": 19,
     "metadata": {},
     "output_type": "execute_result"
    },
    {
     "data": {
      "image/png": "[encoded data removed]",
      "text/plain": [
       "<Figure size 842.4x595.44 with 1 Axes>"
      ]
     },
     "metadata": {},
     "output_type": "display_data"
    }
   ],
   "source": [
    "# Per veure la distibució de qui guanya més partides\n",
    "sns.histplot(data=dataset, x='round_winner').set_title('Quantitat de partides guanaydes per equip')"
   ]
  },
  {
   "cell_type": "markdown",
   "id": "60a55c29",
   "metadata": {},
   "source": [
    "Podem veure que el nostre datasaet conté més mostres on l'equip T guanya."
   ]
  },
  {
   "cell_type": "code",
   "execution_count": 20,
   "id": "015fc99c",
   "metadata": {
    "scrolled": true
   },
   "outputs": [
    {
     "data": {
      "text/plain": [
       "Text(0.5, 1.0, 'Distribució dels mapes')"
      ]
     },
     "execution_count": 20,
     "metadata": {},
     "output_type": "execute_result"
    },
    {
     "data": {
      "image/png": "[encoded data removed]",
      "text/plain": [
       "<Figure size 842.4x595.44 with 1 Axes>"
      ]
     },
     "metadata": {},
     "output_type": "display_data"
    }
   ],
   "source": [
    "# Per veure la distribució dels mapes\n",
    "sns.histplot(data = dataset, x = 'map').set_title('Distribució dels mapes')"
   ]
  },
  {
   "cell_type": "markdown",
   "id": "2b11c476",
   "metadata": {},
   "source": [
    "Podem veure que els dos mapes dels que tenim més informació son dust2 i inferno. \n",
    "Ara mirem com és la distribució de l'equip que guanya la ronda en aquest dos mapes."
   ]
  },
  {
   "cell_type": "code",
   "execution_count": 21,
   "id": "82f2a5e6",
   "metadata": {
    "scrolled": false
   },
   "outputs": [
    {
     "data": {
      "text/plain": [
       "<AxesSubplot:xlabel='round_winner', ylabel='Count'>"
      ]
     },
     "execution_count": 21,
     "metadata": {},
     "output_type": "execute_result"
    },
    {
     "data": {
      "image/png": "[encoded data removed]",
      "text/plain": [
       "<Figure size 842.4x595.44 with 1 Axes>"
      ]
     },
     "metadata": {},
     "output_type": "display_data"
    }
   ],
   "source": [
    "d1 = dataset[dataset['map'] == 'de_dust2']\n",
    "d2 = dataset[dataset['map'] == 'de_inferno']\n",
    "# dust2\n",
    "sns.histplot(data=d1, x='round_winner')\n",
    "# inferno\n",
    "sns.histplot(data=d2, x='round_winner')"
   ]
  },
  {
   "cell_type": "markdown",
   "id": "016f03be",
   "metadata": {},
   "source": [
    "Podem veure com la distribució de els equips que guanyen manté la relació en els dos mapes (dust més fosc i inferno més clar) sent T l'equip que més rondes guanya"
   ]
  },
  {
   "cell_type": "markdown",
   "id": "b1eeca9c",
   "metadata": {},
   "source": [
    "Un altre atribut important en aquest tipus de joc són els diners que té cada equip en una ronda, això determina les armes o l'armadura que podran comprar. Quant més diners té un equip, més probable és de que guanyi la ronda."
   ]
  },
  {
   "cell_type": "code",
   "execution_count": 22,
   "id": "60bee96e",
   "metadata": {},
   "outputs": [
    {
     "name": "stdout",
     "output_type": "stream",
     "text": [
      "ct_money:  114412    700.0\n",
      "Name: ct_money, dtype: float64\n",
      "t_money:  114412    600.0\n",
      "Name: t_money, dtype: float64\n"
     ]
    }
   ],
   "source": [
    "row = random.randint(0, dataset.shape[0])\n",
    "sample = dataset.iloc[[row]]\n",
    "ct_money, t_money = sample['ct_money'], sample['t_money']\n",
    "print('ct_money: ', ct_money)\n",
    "print('t_money: ', t_money)"
   ]
  },
  {
   "cell_type": "markdown",
   "id": "f31f0186",
   "metadata": {},
   "source": [
    "# Data cleaning\n",
    "Com es tracta d'una base de dades sobre un videojoc on l'informació sobre la vida, diners o les armes que s'utilitzen en una partida és important, no podem eliminar ni sustituir aquells atributs que tenen \"0.0\", és a dir missing values.\n",
    "\n",
    "Si sustituim els missing values d'un atribut per la mitjana d'aquest atribut, estariem alterant aquella partida. Per exemple, si en una mostra, cap jugador utilitza una determinada arma i nosaltres modifiquem aquell valor per la mitjana, estem indicant que l’arma si ha estat utilitzada, això pot provocar que la clssificacio no sigui precisa. El mateix passaría si modifiquem els diners en una ronda inicial, l'armadura o la puntuació."
   ]
  },
  {
   "cell_type": "markdown",
   "id": "c543765d",
   "metadata": {},
   "source": [
    "Per tenir tots els atributs en el mateix format, aplico un processament de dades binaries i categòriques"
   ]
  },
  {
   "cell_type": "code",
   "execution_count": 23,
   "id": "6f3d6f52",
   "metadata": {},
   "outputs": [],
   "source": [
    "encoder = LabelEncoder()\n",
    "scaler = StandardScaler()\n",
    "# Eliminació de columnes amb un únic valor\n",
    "for column in dataset.columns:\n",
    "    if len(dataset[column].unique()) == 1:\n",
    "        dataset = dataset.drop([column], axis=1)\n",
    "        \n",
    "# Sustituio l'equip guanyador per 0 (T) i 1 (CT) \n",
    "# Passo la columna bomb_planted de tipus booleà a tipus int\n",
    "dataset['round_winner'] = dataset['round_winner'].replace({'T' : 0, 'CT' : 1})\n",
    "dataset['bomb_planted'] = dataset['bomb_planted'].astype(np.int16)\n",
    "y = dataset['round_winner']\n",
    "\n",
    "# Eliminem la columna objectiu per reduïr el dataset\n",
    "dataset = dataset.drop('round_winner', axis = 1)\n",
    "dataset['map'] = encoder.fit_transform(dataset['map'])\n",
    "\n"
   ]
  },
  {
   "cell_type": "markdown",
   "id": "52d3d828",
   "metadata": {},
   "source": [
    "# Implementation\n",
    "Per a la implementació d'aquest exercici faré diferents models de classificació per aixó comparar-los després"
   ]
  },
  {
   "cell_type": "markdown",
   "id": "9f9374fe",
   "metadata": {},
   "source": [
    "Dividim el dataset en conjunt de dades d'entrenament i test:"
   ]
  },
  {
   "cell_type": "code",
   "execution_count": 24,
   "id": "80e5cd33",
   "metadata": {},
   "outputs": [],
   "source": [
    "X = pd.DataFrame(scaler.fit_transform(dataset), columns = dataset.columns)\n",
    "X_train, X_test, y_train, y_test = train_test_split(X, y, test_size=0.33)"
   ]
  },
  {
   "cell_type": "markdown",
   "id": "143f135f",
   "metadata": {},
   "source": [
    "# Logistic Regression\n",
    "En aquest cas utilitzo una optimització vista a la documentació de Kaggle utilitzant GridSearchCV. Aplica cross validation"
   ]
  },
  {
   "cell_type": "code",
   "execution_count": 25,
   "id": "83b7be4a",
   "metadata": {},
   "outputs": [],
   "source": [
    "start1 = time.time()\n",
    "LR = LogisticRegression(max_iter=1000)\n",
    "param_grid1 = {'fit_intercept':[True,False], 'C': [10, 100]}\n",
    "# Utilitzo aquest optimitzador, vist a la documentació de Kaggle\n",
    "Optimizer1 = GridSearchCV(LR, param_grid1, cv=5)\n",
    "Optimizer1.fit(X_train, y_train)\n",
    "\n",
    "predsTrain1 = Optimizer1.predict(X_train)\n",
    "predsTest1 = Optimizer1.predict(X_test)"
   ]
  },
  {
   "cell_type": "code",
   "execution_count": 26,
   "id": "2b17ba4d",
   "metadata": {},
   "outputs": [
    {
     "name": "stdout",
     "output_type": "stream",
     "text": [
      "              precision    recall  f1-score   support\n",
      "\n",
      "           0       0.76      0.74      0.75     41793\n",
      "           1       0.74      0.76      0.75     40221\n",
      "\n",
      "    accuracy                           0.75     82014\n",
      "   macro avg       0.75      0.75      0.75     82014\n",
      "weighted avg       0.75      0.75      0.75     82014\n",
      "\n"
     ]
    }
   ],
   "source": [
    "# Train\n",
    "print(classification_report(y_train, predsTrain1))"
   ]
  },
  {
   "cell_type": "code",
   "execution_count": 27,
   "id": "fbd3bf0b",
   "metadata": {
    "scrolled": true
   },
   "outputs": [
    {
     "name": "stdout",
     "output_type": "stream",
     "text": [
      "              precision    recall  f1-score   support\n",
      "\n",
      "           0       0.76      0.74      0.75     20613\n",
      "           1       0.74      0.76      0.75     19783\n",
      "\n",
      "    accuracy                           0.75     40396\n",
      "   macro avg       0.75      0.75      0.75     40396\n",
      "weighted avg       0.75      0.75      0.75     40396\n",
      "\n"
     ]
    }
   ],
   "source": [
    "# Test\n",
    "print(classification_report(y_test, predsTest1))"
   ]
  },
  {
   "cell_type": "code",
   "execution_count": 28,
   "id": "b75ebae1",
   "metadata": {},
   "outputs": [
    {
     "name": "stdout",
     "output_type": "stream",
     "text": [
      "Time LR:  51.51911187171936\n"
     ]
    }
   ],
   "source": [
    "end1 = time.time()\n",
    "print(\"Time LR: \", end1-start1)"
   ]
  },
  {
   "cell_type": "markdown",
   "id": "0c290bbb",
   "metadata": {},
   "source": [
    "# Decision Tree\n",
    "En aquest cas utilitzo una optimització vista a la documentació de Kaggle utilitzant GridSearchCV. Aplica cross validation"
   ]
  },
  {
   "cell_type": "code",
   "execution_count": 29,
   "id": "98b68e1c",
   "metadata": {},
   "outputs": [],
   "source": [
    "start2 = time.time()\n",
    "DT = DecisionTreeClassifier()\n",
    "param_grid2 = {'max_depth':[None,1,2,3], 'min_samples_leaf' :[2,3,4]}\n",
    "\n",
    "# Utilitzo aquest optimitzador, vist a la documentació de Kaggle\n",
    "Optimizer2 = GridSearchCV(DT, param_grid2, cv = 5)\n",
    "Optimizer2.fit(X_train, y_train)\n",
    "\n",
    "predsTrain2 = Optimizer2.predict(X_train)\n",
    "predsTest2 = Optimizer2.predict(X_test)"
   ]
  },
  {
   "cell_type": "code",
   "execution_count": 30,
   "id": "b00c8746",
   "metadata": {
    "scrolled": false
   },
   "outputs": [
    {
     "name": "stdout",
     "output_type": "stream",
     "text": [
      "              precision    recall  f1-score   support\n",
      "\n",
      "           0       0.95      0.96      0.95     41793\n",
      "           1       0.96      0.95      0.95     40221\n",
      "\n",
      "    accuracy                           0.95     82014\n",
      "   macro avg       0.95      0.95      0.95     82014\n",
      "weighted avg       0.95      0.95      0.95     82014\n",
      "\n"
     ]
    }
   ],
   "source": [
    "# Train\n",
    "print(classification_report(y_train, predsTrain2))"
   ]
  },
  {
   "cell_type": "code",
   "execution_count": 31,
   "id": "e16ad429",
   "metadata": {
    "scrolled": true
   },
   "outputs": [
    {
     "name": "stdout",
     "output_type": "stream",
     "text": [
      "              precision    recall  f1-score   support\n",
      "\n",
      "           0       0.80      0.81      0.80     20613\n",
      "           1       0.80      0.79      0.79     19783\n",
      "\n",
      "    accuracy                           0.80     40396\n",
      "   macro avg       0.80      0.80      0.80     40396\n",
      "weighted avg       0.80      0.80      0.80     40396\n",
      "\n"
     ]
    }
   ],
   "source": [
    "# Test\n",
    "print(classification_report(y_test, predsTest2))"
   ]
  },
  {
   "cell_type": "code",
   "execution_count": 32,
   "id": "2fc80f8a",
   "metadata": {},
   "outputs": [
    {
     "name": "stdout",
     "output_type": "stream",
     "text": [
      "Time DT:  34.91352725028992\n"
     ]
    }
   ],
   "source": [
    "end2 = time.time()\n",
    "print(\"Time DT: \", end2-start2)"
   ]
  },
  {
   "cell_type": "markdown",
   "id": "f14bda8e",
   "metadata": {},
   "source": [
    "# KNN\n",
    "En aquest cas no he aconseguit fer anar aquest model amb el GridSearchCV."
   ]
  },
  {
   "cell_type": "code",
   "execution_count": 33,
   "id": "1baca760",
   "metadata": {},
   "outputs": [
    {
     "name": "stdout",
     "output_type": "stream",
     "text": [
      "KNN:\n",
      "Mean Accuracy:  0.8087248737498762\n",
      "Mean Precision:  0.8087248737498762\n",
      "Mean Recall:  0.8087248737498762\n"
     ]
    }
   ],
   "source": [
    "# KNN\n",
    "start3 = time.time()\n",
    "acc, t_acc = [], 0\n",
    "prec, t_prec = [], 0\n",
    "rec, t_rec = [], 0\n",
    "n = [5, 6, 7, 8]\n",
    "for i in n:\n",
    "    knn = KNeighborsClassifier(n_neighbors=i)\n",
    "    knn.fit(X_train, y_train)\n",
    "    predictions = knn.predict(X_test)\n",
    "    acc.append(accuracy_score(y_test, predictions))\n",
    "    prec.append(precision_score(y_test, predictions, average='micro'))\n",
    "    rec.append(recall_score(y_test, predictions, average='micro'))\n",
    "\n",
    "for i in range(0, len(n)):\n",
    "    t_acc += acc[i]\n",
    "    t_prec += prec[i]\n",
    "    t_rec += rec[i]\n",
    "\n",
    "print('KNN:')\n",
    "print('Mean Accuracy: ', t_acc / len(n))\n",
    "print('Mean Precision: ', t_prec / len(n))\n",
    "print('Mean Recall: ', t_rec / len(n))"
   ]
  },
  {
   "cell_type": "code",
   "execution_count": 34,
   "id": "61580076",
   "metadata": {},
   "outputs": [
    {
     "name": "stdout",
     "output_type": "stream",
     "text": [
      "Time KNN:  310.03594493865967\n"
     ]
    }
   ],
   "source": [
    "end3 = time.time()\n",
    "print(\"Time KNN: \", end3-start3)"
   ]
  },
  {
   "cell_type": "markdown",
   "id": "b78505e9",
   "metadata": {},
   "source": [
    "## Conclusions"
   ]
  },
  {
   "cell_type": "markdown",
   "id": "d99e8ab7",
   "metadata": {},
   "source": [
    "Com podem veure per les mètriques obtingudes, els millors resultats els obtenim amb el model de DecisionTree seguit del KNN i LogisticRegressor, amb accuracy de 81%, 80% i 75% respectivament.\n",
    "Tot i aquest resultats, els temps d'execució són massa alts. Això és degut a que en els models de LogisticRegressor i de DecisionTree s'està aplicant un cross validation amb cv = 5, per això en cada execució realment s'està executant el model 5 cops. \n",
    "En quant al temps del KNN, crec que és degut a l'escalada de dades necessaria per als altres dos models.\n",
    "A més d'això cal tenir en compte les dimensions del nostre dataset, ya que conté moltes mostres amb molts atributs que provocan que els models facin els càlculs més lentament.\n",
    "Crec que per a un treball futur podria ser interessant treballar sense aquest escalament per veure una comparació."
   ]
  }
 ],
 "metadata": {
  "kernelspec": {
   "display_name": "Python 3",
   "language": "python",
   "name": "python3"
  },
  "language_info": {
   "codemirror_mode": {
    "name": "ipython",
    "version": 3
   },
   "file_extension": ".py",
   "mimetype": "text/x-python",
   "name": "python",
   "nbconvert_exporter": "python",
   "pygments_lexer": "ipython3",
   "version": "3.8.8"
  }
 },
 "nbformat": 4,
 "nbformat_minor": 5
}
